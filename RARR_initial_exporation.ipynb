{
  "nbformat": 4,
  "nbformat_minor": 0,
  "metadata": {
    "colab": {
      "provenance": [],
      "private_outputs": true
    },
    "kernelspec": {
      "name": "python3",
      "display_name": "Python 3"
    },
    "language_info": {
      "name": "python"
    }
  },
  "cells": [
    {
      "cell_type": "markdown",
      "source": [
        "# RARR: Researching and Revising What Language Models Say, Using Language Models\n",
        "\n",
        "**Author:** Anthony Chen ⚫️ University of California, Irvine ⚫️ anthony.chen@uci.edu\n",
        "\n",
        "===============================================\n",
        "\n",
        "This colab notebook provdies an easy-to-use interface for experimenting with a\n",
        "public implementation of the RARR model developed in the [ACL 2023 paper](https://arxiv.org/abs/2210.08726v2).\n",
        "\n",
        "To use this notebook copy it into your drive, hit `Connect` in the upper right hand corner, then run the first two cells to\n",
        "pull the RARR repository and install dependencies.\n",
        "Then add your OpenAI API and Bing API keys in the specified fields.\n",
        "\n",
        "### Warning about Hallucinate Evidence Mode\n",
        "If you do not have a Bing API key, we provide an option to use RARR with evidence hallucinated from a LLM.\n",
        "This mode should not be used when trying to improve attribution as the generated evidence may contain inaccuracies.\n",
        "This mode is only provided to be able to quickly see how RARR works.\n",
        "\n"
      ],
      "metadata": {
        "id": "czTiZXlWdKTq"
      }
    },
    {
      "cell_type": "markdown",
      "source": [
        "## Environment Setup"
      ],
      "metadata": {
        "id": "DBgnUD-DeHkw"
      }
    },
    {
      "cell_type": "code",
      "source": [
        "!git clone https://github.com/anthonywchen/RARR.git\n",
        "!pip install -r RARR/requirements.txt"
      ],
      "metadata": {
        "id": "4AyjQAmeGBEf"
      },
      "execution_count": null,
      "outputs": []
    },
    {
      "cell_type": "code",
      "execution_count": null,
      "metadata": {
        "id": "JEM4j0WWCLal"
      },
      "outputs": [],
      "source": [
        "import json\n",
        "import os\n",
        "import sys\n",
        "import uuid\n",
        "from IPython.display import HTML, display\n",
        "sys.path.append(\"RARR/\")\n",
        "\n",
        "# Set your OpenAI and Bing API keys here\n",
        "os.environ[\"OPENAI_API_KEY\"] = \"\"\n",
        "os.environ[\"AZURE_SEARCH_KEY\"] = \"\"\n",
        "\n",
        "from run_editor_sequential import run_editor_one_instance\n",
        "from utils import search\n",
        "\n",
        "\n",
        "def set_css():\n",
        "  display(HTML('''\n",
        "  <style>\n",
        "    pre {\n",
        "        white-space: pre-wrap;\n",
        "    }\n",
        "  </style>\n",
        "  '''))\n",
        "get_ipython().events.register('pre_run_cell', set_css)"
      ]
    },
    {
      "cell_type": "code",
      "source": [
        "claim = \"Mount Kilimanjaro is the tallest mountain in the world.\""
      ],
      "metadata": {
        "id": "6GCamIQSDw4B"
      },
      "execution_count": null,
      "outputs": []
    },
    {
      "cell_type": "markdown",
      "source": [
        "## Calls RARR with Evidence Search"
      ],
      "metadata": {
        "id": "YUX3dCqZaP7_"
      }
    },
    {
      "cell_type": "code",
      "source": [
        "result = run_editor_one_instance(claim)\n",
        "print(json.dumps(result, indent=4))"
      ],
      "metadata": {
        "id": "EcDysso7GO-D"
      },
      "execution_count": null,
      "outputs": []
    },
    {
      "cell_type": "markdown",
      "source": [
        "## Calls RARR with Evidence Hallucination\n",
        "If you do not have a Bing Search API key but would still like to see how the RARR pipeline works, we provide an option to use a LLM from OpenAI to hallucinate evidence instead of retrieving evidence. Do NOT trust the results as the evidence can have misinformation; this is only provided to quickly illustrate how RARR operates.\n",
        "\n"
      ],
      "metadata": {
        "id": "hIK_ZtdxaVjq"
      }
    },
    {
      "cell_type": "code",
      "source": [
        "do_not_trust_result = run_editor_one_instance(claim, hallucinate_evidence=True)\n",
        "print(json.dumps(do_not_trust_result, indent=4))"
      ],
      "metadata": {
        "id": "RAUT-2ckaFPV"
      },
      "execution_count": null,
      "outputs": []
    }
  ]
}